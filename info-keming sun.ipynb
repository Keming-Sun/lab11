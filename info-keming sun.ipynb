{
 "cells": [
  {
   "cell_type": "markdown",
   "metadata": {},
   "source": [
    "Name： Keming Sun \n",
    "Age: 20\n",
    "Gender: Male"
   ]
  }
 ],
 "metadata": {
  "kernelspec": {
   "display_name": "ds",
   "language": "python",
   "name": "python3"
  },
  "language_info": {
   "name": "python",
   "version": "3.7.13 (default, Oct 19 2022, 10:19:43) [MSC v.1916 64 bit (AMD64)]"
  },
  "orig_nbformat": 4,
  "vscode": {
   "interpreter": {
    "hash": "56423e8527840c33240303852b2f509b64fbc410f19bca91369ca9cf39e0c648"
   }
  }
 },
 "nbformat": 4,
 "nbformat_minor": 2
}
